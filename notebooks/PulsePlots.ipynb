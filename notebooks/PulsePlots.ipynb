{
 "cells": [
  {
   "cell_type": "markdown",
   "id": "89aa6bdd",
   "metadata": {},
   "source": [
    "First let's load the Jar. This requires `mill q.assembly` to be run beforehand."
   ]
  },
  {
   "cell_type": "code",
   "execution_count": 1,
   "id": "232e5459",
   "metadata": {},
   "outputs": [],
   "source": [
    "interp.load.cp(os.pwd/\"..\"/\"out\"/\"q\"/\"assembly.dest\"/\"out.jar\")"
   ]
  },
  {
   "cell_type": "markdown",
   "id": "09602ebe",
   "metadata": {},
   "source": [
    "We will load some boilerplate code for graphing as well."
   ]
  },
  {
   "cell_type": "code",
   "execution_count": 2,
   "id": "45ce2c90",
   "metadata": {},
   "outputs": [
    {
     "data": {
      "text/plain": [
       "\u001b[32mimport \u001b[39m\u001b[36m$file.$\u001b[39m"
      ]
     },
     "execution_count": 2,
     "metadata": {},
     "output_type": "execute_result"
    }
   ],
   "source": [
    "import $file.makeplot"
   ]
  },
  {
   "cell_type": "markdown",
   "id": "2d05086f",
   "metadata": {},
   "source": [
    "Now, all the imports..."
   ]
  },
  {
   "cell_type": "code",
   "execution_count": 3,
   "id": "1913d2be",
   "metadata": {
    "scrolled": true
   },
   "outputs": [
    {
     "data": {
      "text/plain": [
       "\u001b[32mimport \u001b[39m\u001b[36mriscq._\u001b[39m\n",
       "\u001b[32mimport \u001b[39m\u001b[36mriscq.tester.qubic._\u001b[39m\n",
       "\u001b[32mimport \u001b[39m\u001b[36mriscq.soc.QubicSoc\u001b[39m\n",
       "\u001b[32mimport \u001b[39m\u001b[36mriscq.tester._\u001b[39m\n",
       "\u001b[32mimport \u001b[39m\u001b[36mspinal.core.sim._\u001b[39m\n",
       "\u001b[32mimport \u001b[39m\u001b[36mspinal.core._\u001b[39m\n",
       "\u001b[32mimport \u001b[39m\u001b[36mspinal.lib.bus.tilelink.sim._\u001b[39m\n",
       "\u001b[32mimport \u001b[39m\u001b[36mspinal.lib.bus.tilelink._\u001b[39m\n",
       "\u001b[32mimport \u001b[39m\u001b[36mspinal.lib.bus.amba4.axi.sim.Axi4Master\u001b[39m\n",
       "\u001b[32mimport \u001b[39m\u001b[36mriscq.tester.RvAssembler\u001b[39m\n",
       "\u001b[32mimport \u001b[39m\u001b[36mriscq.tester.QubicAssembler\u001b[39m\n",
       "\u001b[32mimport \u001b[39m\u001b[36mriscq.tester.ByteHelper\u001b[39m\n",
       "\u001b[32mimport \u001b[39m\u001b[36mriscq.soc.QubicPlugins\u001b[39m\n",
       "\u001b[32mimport \u001b[39m\u001b[36mQubicTestConfig._\u001b[39m\n",
       "\u001b[32mimport \u001b[39m\u001b[36mscala.collection.mutable.ArrayBuffer\u001b[39m\n",
       "\u001b[32mimport \u001b[39m\u001b[36mspinal.lib._\u001b[39m\n",
       "\u001b[32mimport \u001b[39m\u001b[36mriscq.soc.MemoryMapSoc\u001b[39m\n",
       "\u001b[32mimport \u001b[39m\u001b[36mriscq.tester.RvAssembler\u001b[39m\n",
       "\u001b[32mimport \u001b[39m\u001b[36mriscq.tester.mmsoc.MMSocDriver\u001b[39m"
      ]
     },
     "execution_count": 3,
     "metadata": {},
     "output_type": "execute_result"
    }
   ],
   "source": [
    "import riscq._\n",
    "import riscq.tester.qubic._\n",
    "import riscq.soc.QubicSoc\n",
    "import riscq.tester._\n",
    "import spinal.core.sim._\n",
    "import spinal.core._\n",
    "import spinal.lib.bus.tilelink.sim._\n",
    "import spinal.lib.bus.tilelink._\n",
    "import spinal.lib.bus.amba4.axi.sim.Axi4Master\n",
    "import riscq.tester.RvAssembler\n",
    "import riscq.tester.QubicAssembler\n",
    "import riscq.tester.ByteHelper\n",
    "import riscq.soc.QubicPlugins\n",
    "import QubicTestConfig._\n",
    "import scala.collection.mutable.ArrayBuffer\n",
    "import spinal.lib._\n",
    "import riscq.soc.MemoryMapSoc\n",
    "import riscq.tester.RvAssembler\n",
    "import riscq.tester.mmsoc.MMSocDriver"
   ]
  },
  {
   "cell_type": "markdown",
   "id": "10e0c50a",
   "metadata": {},
   "source": [
    "First, let's copy over the existing QubicSOC test and collect some output. This skips hand-writing assembly for the moment."
   ]
  },
  {
   "cell_type": "code",
   "execution_count": null,
   "id": "8633436d",
   "metadata": {},
   "outputs": [],
   "source": [
    "val dac_output = ArrayBuffer[Double]()\n",
    "val carrier_output = ArrayBuffer[Double]()\n",
    "simConfig\n",
    "    .compile{\n",
    "      val dut = QubicSoc(\n",
    "        qubitNum = 8,\n",
    "        withVivado = false,\n",
    "        withCocotb = false,\n",
    "        withWhitebox = true,\n",
    "        withTest = true\n",
    "      )\n",
    "      dut.pgs.map{_.io.simPublic()}\n",
    "      dut.cgs.map{_.io.simPublic()}\n",
    "      dut\n",
    "    }\n",
    "    .doSim { dut =>\n",
    "      val driver = new Driver(dut)\n",
    "      import driver._\n",
    "      val rvAsm = new RvAssembler(128)\n",
    "      import rvAsm._\n",
    "      val qbAsm = new QubicAssembler()\n",
    "      import qbAsm._\n",
    "\n",
    "      init()\n",
    "\n",
    "      val batchSize = 16\n",
    "      val dataWidth = 16\n",
    "      for (i <- 0 until 5) {\n",
    "        val batch = List.tabulate(batchSize)((x : Int) => BigInt(200 * x * (i + 1))).reverse\n",
    "        val batchData = riscq.pulse.PGTestPulse.concat(batch, dataWidth)\n",
    "        val dataStr = batch.map { x => ByteHelper.intToBinStr(x, dataWidth) }.reduce { _ ++ _ }\n",
    "        tlDriver.putFullData(0, dut.pulseOffset + i * batchSize * dataWidth / 8, ByteHelper.fromBinStr(dataStr).reverse)\n",
    "      }\n",
    "      cd100m.waitRisingEdge()\n",
    "\n",
    "      val startTime = 50\n",
    "      val insts = List(\n",
    "        setTime(0), // 0\n",
    "        carrier(1 << (16 - 5), 0), // 1\n",
    "        qbAsm.pulse(\n",
    "          puop,\n",
    "          start = startTime,\n",
    "          addr = 0,\n",
    "          duration = 4,\n",
    "          phase = (1 << (puop.phaseWidth - 7)),\n",
    "          freq = 0,\n",
    "          amp = (1 << (puop.ampWidth - 1)) - 1\n",
    "        ), // 2\n",
    "        beq(0, 0, 0) // 3\n",
    "      )\n",
    "      loadIMem(0, insts)\n",
    "\n",
    "      dut.riscq_rst #= true\n",
    "      tick()\n",
    "      dut.riscq_rst #= false\n",
    "\n",
    "      tick(startTime+8)\n",
    "      for (i <- 0 until 6) {\n",
    "        logTime()\n",
    "        logPcs()\n",
    "        logDac(0)\n",
    "        logCarrier(0)\n",
    "        println(\"\")\n",
    "        val dac = dut.pgs(0).io.data\n",
    "        val pulse = dac.payload.map { _.r.toDouble * (1 << 14) }.toList\n",
    "        dac_output ++= pulse\n",
    "        val carrier = dut.cgs(0).io.carrier\n",
    "        val data = carrier.payload.map { _.r.toDouble * (1 << 14) }.toList\n",
    "        carrier_output ++= data\n",
    "        tick()\n",
    "      }\n",
    "    }"
   ]
  },
  {
   "cell_type": "markdown",
   "id": "e638af06",
   "metadata": {},
   "source": [
    "Now, let's graph the DAC and Carrier data."
   ]
  },
  {
   "cell_type": "code",
   "execution_count": null,
   "id": "c8778ed8",
   "metadata": {
    "scrolled": true
   },
   "outputs": [],
   "source": [
    "val pngBytes = makeplot.make_plot(List(makeplot.LabeledData(\"DAC output\", dac_output), makeplot.LabeledData(\"Carrier output\", carrier_output)))\n",
    "Image(pngBytes)"
   ]
  },
  {
   "cell_type": "markdown",
   "id": "aa8a6db7",
   "metadata": {},
   "source": [
    "Now, let's fix the envelope and do the same!"
   ]
  },
  {
   "cell_type": "code",
   "execution_count": null,
   "id": "d80de9ca",
   "metadata": {},
   "outputs": [],
   "source": [
    "// TODO"
   ]
  },
  {
   "cell_type": "markdown",
   "id": "d6007456",
   "metadata": {},
   "source": [
    "And now we write some assembly and try the same with MMSoc too. TODO for this to work, need to run some build script in the \"asm\" folder."
   ]
  },
  {
   "cell_type": "code",
   "execution_count": null,
   "id": "275850e0",
   "metadata": {},
   "outputs": [],
   "source": [
    "object TestAlu extends App {\n",
    "  val simConfig = SimConfig.addSimulatorFlag(\"-Wno-MULTIDRIVEN\")\n",
    "  simConfig.compile(MemoryMapSoc(withWhitebox = true)).doSim { dut =>\n",
    "    val driver = new MMSocDriver(dut)\n",
    "    driver.loadInsts()\n",
    "    driver.init()\n",
    "    driver.rstUp()\n",
    "\n",
    "    dut.riscq_rst #= true\n",
    "    for(_ <- 0 until 15) {\n",
    "      driver.tick()\n",
    "    }\n",
    "\n",
    "    driver.rstDown()\n",
    "    dut.riscq_rst #= false\n",
    "    for(_ <- 0 until 100) {\n",
    "      driver.logRf()\n",
    "      driver.tick()\n",
    "    }\n",
    "  }\n",
    "}"
   ]
  },
  {
   "cell_type": "markdown",
   "id": "74f26386",
   "metadata": {},
   "source": [
    "Graph it too."
   ]
  },
  {
   "cell_type": "code",
   "execution_count": null,
   "id": "0011c525",
   "metadata": {},
   "outputs": [],
   "source": []
  }
 ],
 "metadata": {
  "kernelspec": {
   "display_name": "Scala",
   "language": "scala",
   "name": "scala"
  },
  "language_info": {
   "codemirror_mode": "text/x-scala",
   "file_extension": ".sc",
   "mimetype": "text/x-scala",
   "name": "scala",
   "nbconvert_exporter": "script",
   "version": "2.12.18"
  }
 },
 "nbformat": 4,
 "nbformat_minor": 5
}
